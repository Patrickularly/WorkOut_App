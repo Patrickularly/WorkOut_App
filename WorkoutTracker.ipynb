{
 "cells": [
  {
   "cell_type": "markdown",
   "metadata": {},
   "source": [
    "# Workout tracker"
   ]
  },
  {
   "cell_type": "code",
   "execution_count": 17,
   "metadata": {},
   "outputs": [
    {
     "ename": "NameError",
     "evalue": "name 'workoutPlan' is not defined",
     "output_type": "error",
     "traceback": [
      "\u001b[0;31m---------------------------------------------------------------------------\u001b[0m",
      "\u001b[0;31mNameError\u001b[0m                                 Traceback (most recent call last)",
      "Cell \u001b[0;32mIn[17], line 1\u001b[0m\n\u001b[0;32m----> 1\u001b[0m \u001b[38;5;28;43;01mclass\u001b[39;49;00m\u001b[43m \u001b[49m\u001b[38;5;21;43;01mworkoutPlan\u001b[39;49;00m\u001b[43m:\u001b[49m\n\u001b[1;32m      2\u001b[0m \u001b[43m    \u001b[49m\u001b[38;5;28;43;01mdef\u001b[39;49;00m\u001b[43m \u001b[49m\u001b[38;5;21;43m__init__\u001b[39;49m\u001b[43m(\u001b[49m\u001b[38;5;28;43mself\u001b[39;49m\u001b[43m,\u001b[49m\u001b[43m \u001b[49m\u001b[43mfrequenzy\u001b[49m\u001b[38;5;241;43m=\u001b[39;49m\u001b[38;5;241;43m0\u001b[39;49m\u001b[43m,\u001b[49m\u001b[43m \u001b[49m\u001b[43mduration\u001b[49m\u001b[38;5;241;43m=\u001b[39;49m\u001b[38;5;241;43m0\u001b[39;49m\u001b[43m,\u001b[49m\u001b[43m \u001b[49m\u001b[43mtitle\u001b[49m\u001b[38;5;241;43m=\u001b[39;49m\u001b[38;5;124;43m'\u001b[39;49m\u001b[38;5;124;43m'\u001b[39;49m\u001b[43m \u001b[49m\u001b[43m)\u001b[49m\u001b[43m:\u001b[49m\n\u001b[1;32m      4\u001b[0m \u001b[43m        \u001b[49m\u001b[38;5;28;43mself\u001b[39;49m\u001b[38;5;241;43m.\u001b[39;49m\u001b[43mfrequenzy\u001b[49m\u001b[43m \u001b[49m\u001b[38;5;241;43m=\u001b[39;49m\u001b[43m \u001b[49m\u001b[43mfrequenzy\u001b[49m\n",
      "Cell \u001b[0;32mIn[17], line 20\u001b[0m, in \u001b[0;36mworkoutPlan\u001b[0;34m()\u001b[0m\n\u001b[1;32m     17\u001b[0m \u001b[38;5;28;01mdef\u001b[39;00m \u001b[38;5;21mmain\u001b[39m():\n\u001b[1;32m     18\u001b[0m     myWorkout \u001b[38;5;241m=\u001b[39m workoutPlan()\n\u001b[0;32m---> 20\u001b[0m \u001b[43mmain\u001b[49m\u001b[43m(\u001b[49m\u001b[43m)\u001b[49m\n",
      "Cell \u001b[0;32mIn[17], line 18\u001b[0m, in \u001b[0;36mworkoutPlan.main\u001b[0;34m()\u001b[0m\n\u001b[1;32m     17\u001b[0m \u001b[38;5;28;01mdef\u001b[39;00m \u001b[38;5;21mmain\u001b[39m():\n\u001b[0;32m---> 18\u001b[0m     myWorkout \u001b[38;5;241m=\u001b[39m \u001b[43mworkoutPlan\u001b[49m()\n",
      "\u001b[0;31mNameError\u001b[0m: name 'workoutPlan' is not defined"
     ]
    }
   ],
   "source": [
    "class workoutPlan:\n",
    "    def __init__(self, frequenzy=0, duration=0, title='' ):\n",
    "\n",
    "        self.frequenzy = frequenzy\n",
    "        self.duration = duration \n",
    "        self.title = title\n",
    "\n",
    "    def _setDays(self, days):\n",
    "        self.frequenzy = days\n",
    "        '''for i in range(1,self.frequenzy + 1):\n",
    "            print(i)'''\n",
    "\n",
    "    def _setWeeks(self, weeks):\n",
    "        self.duration = weeks\n",
    "        '''for i in range(1, self.duration + 1):\n",
    "            print(i)'''\n",
    "\n",
    "    def getDays(self):\n",
    "        return self.frequenzy\n",
    "    \n",
    "    def getWeeks(self):\n",
    "        return self.duration\n",
    "    \n",
    "    #def __str__(self):\n",
    "\n",
    "\n",
    "    def main():\n",
    "        myWorkout = workoutPlan()\n",
    "        myWorkout._setDays(input('How many days per week? '))\n",
    "        myWorkout._setWeeks(input('How many weeks do you want to train? '))\n",
    "\n",
    "        print(myWorkout.getDays, myWorkout.getWeeks)\n",
    "\n",
    "    main()\n"
   ]
  },
  {
   "cell_type": "code",
   "execution_count": null,
   "metadata": {},
   "outputs": [],
   "source": []
  }
 ],
 "metadata": {
  "kernelspec": {
   "display_name": "base",
   "language": "python",
   "name": "python3"
  },
  "language_info": {
   "codemirror_mode": {
    "name": "ipython",
    "version": 3
   },
   "file_extension": ".py",
   "mimetype": "text/x-python",
   "name": "python",
   "nbconvert_exporter": "python",
   "pygments_lexer": "ipython3",
   "version": "3.12.2"
  }
 },
 "nbformat": 4,
 "nbformat_minor": 2
}
